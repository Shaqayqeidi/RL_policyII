{
 "cells": [
  {
   "cell_type": "code",
   "execution_count": 15,
   "metadata": {},
   "outputs": [],
   "source": [
    "import numpy as np\n",
    "import random\n",
    "from random import sample\n",
    "import math "
   ]
  },
  {
   "cell_type": "code",
   "execution_count": 16,
   "metadata": {},
   "outputs": [],
   "source": [
    "def reset1():\n",
    "    st=np.zeros(16)\n",
    "    return st\n"
   ]
  },
  {
   "cell_type": "code",
   "execution_count": 17,
   "metadata": {},
   "outputs": [],
   "source": [
    "weibull_scale=(2365.08,996.88,713.55,1406.84,343.76,3933.12,828.19,2040.95)\n",
    "weibull_shape=(414.16,109.25,79.81,115.21,169.81,143.60,43.83,296.48)\n",
    "tf=(2,6.5,2.5,6,5,3.5,3,3.5)\n",
    "tp=(0.4,5.42,0.625,0.857,1.25,0.7,0.429,0.875)\n",
    "time_interval=5\n",
    "running_time=100000"
   ]
  },
  {
   "cell_type": "code",
   "execution_count": 18,
   "metadata": {},
   "outputs": [],
   "source": [
    "def step1 (action,st):\n",
    "    \n",
    "    for i in range(8):\n",
    "        f = random.weibullvariate(weibull_scale[i],weibull_shape[i])\n",
    "        if action[i]==0 :\n",
    "            if f < st[i]:\n",
    "                st[i+8]=1\n",
    "                st[i]=0\n",
    "            else:\n",
    "                st[i+8]=0\n",
    "                st[i] +=5\n",
    "        if action[i]==1 :\n",
    "                st[i]=0\n",
    "            \n",
    "        \n",
    "    reward=np.zeros(8)\n",
    "    for j in range(8):\n",
    "        if action[j]==1 :\n",
    "            reward[j]= - (time_interval / tp[j])*tp[j]\n",
    "        \n",
    "        if (action[j]==0 and st[j+8]==1):\n",
    "            reward[j] = - (time_interval / tp[j])*time_interval * math.ceil(tf[j]/time_interval)\n",
    "            \n",
    "        else:\n",
    "            reward[j]=5\n",
    "    \n",
    "    return st,reward \n",
    "                "
   ]
  },
  {
   "cell_type": "code",
   "execution_count": 19,
   "metadata": {},
   "outputs": [],
   "source": [
    "def actionll(st):\n",
    "    a=np.zeros(8)\n",
    "    T=np.zeros(8)\n",
    "    for i in range(8):\n",
    "        T[i]= random.randint(200,4000)\n",
    "        if st[i] < T[i]:\n",
    "            a[i]=0\n",
    "        else:\n",
    "            a[i]=1\n",
    "    \n",
    "    return a , T\n",
    "        "
   ]
  },
  {
   "cell_type": "code",
   "execution_count": 20,
   "metadata": {},
   "outputs": [],
   "source": [
    "action_sapce_random = [random.choice([0,1]),random.choice([0,1]),random.choice([0,1]),\n",
    "                                random.choice([0,1]),random.choice([0,1]),random.choice([0,1]),\n",
    "                                random.choice([0,1]),random.choice([0,1])]"
   ]
  },
  {
   "cell_type": "code",
   "execution_count": 21,
   "metadata": {},
   "outputs": [
    {
     "data": {
      "text/plain": [
       "[1, 0, 0, 1, 0, 1, 1, 1]"
      ]
     },
     "execution_count": 21,
     "metadata": {},
     "output_type": "execute_result"
    }
   ],
   "source": [
    "action_sapce_random"
   ]
  },
  {
   "cell_type": "code",
   "execution_count": 22,
   "metadata": {},
   "outputs": [],
   "source": [
    "b=reset1()"
   ]
  },
  {
   "cell_type": "code",
   "execution_count": 23,
   "metadata": {},
   "outputs": [
    {
     "data": {
      "text/plain": [
       "1674.0"
      ]
     },
     "execution_count": 23,
     "metadata": {},
     "output_type": "execute_result"
    }
   ],
   "source": [
    "a=actionll(b)[1]\n",
    "\n",
    "a[1]"
   ]
  },
  {
   "cell_type": "code",
   "execution_count": 24,
   "metadata": {},
   "outputs": [],
   "source": [
    "st , r = step1(a,b)"
   ]
  },
  {
   "cell_type": "code",
   "execution_count": 25,
   "metadata": {},
   "outputs": [
    {
     "data": {
      "text/plain": [
       "array([0., 0., 0., 0., 0., 0., 0., 0., 0., 0., 0., 0., 0., 0., 0., 0.])"
      ]
     },
     "execution_count": 25,
     "metadata": {},
     "output_type": "execute_result"
    }
   ],
   "source": [
    "st "
   ]
  },
  {
   "cell_type": "code",
   "execution_count": 26,
   "metadata": {},
   "outputs": [
    {
     "data": {
      "text/plain": [
       "0.0"
      ]
     },
     "execution_count": 26,
     "metadata": {},
     "output_type": "execute_result"
    }
   ],
   "source": [
    "st[0]\n",
    "st[8]"
   ]
  },
  {
   "cell_type": "code",
   "execution_count": 27,
   "metadata": {},
   "outputs": [
    {
     "data": {
      "text/plain": [
       "[0.0, 0.0]"
      ]
     },
     "execution_count": 27,
     "metadata": {},
     "output_type": "execute_result"
    }
   ],
   "source": [
    "state_one_component=[]\n",
    "state_one_component.append(st[0])\n",
    "state_one_component.append(st[8])\n",
    "state_one_component"
   ]
  },
  {
   "cell_type": "code",
   "execution_count": 28,
   "metadata": {},
   "outputs": [
    {
     "data": {
      "text/plain": [
       "array([5., 5., 5., 5., 5., 5., 5., 5.])"
      ]
     },
     "execution_count": 28,
     "metadata": {},
     "output_type": "execute_result"
    }
   ],
   "source": [
    "r"
   ]
  },
  {
   "cell_type": "code",
   "execution_count": 29,
   "metadata": {},
   "outputs": [
    {
     "data": {
      "text/plain": [
       "[[array([ 921., 1674., 3261., 3039., 3666., 3661.,  700.,  282.]),\n",
       "  array([0., 0., 0., 0., 0., 0., 0., 0., 0., 0., 0., 0., 0., 0., 0., 0.])]]"
      ]
     },
     "execution_count": 29,
     "metadata": {},
     "output_type": "execute_result"
    }
   ],
   "source": [
    "timestep = []\n",
    "timestep.append(a)\n",
    "timestep.append(st)\n",
    "episode=[]\n",
    "episode.append(timestep)\n",
    "episode"
   ]
  },
  {
   "cell_type": "code",
   "execution_count": 16,
   "metadata": {},
   "outputs": [],
   "source": [
    "#def choose_"
   ]
  },
  {
   "cell_type": "code",
   "execution_count": 34,
   "metadata": {},
   "outputs": [],
   "source": [
    "#monte carlo first visit\n",
    "def monte_carlo_I ():\n",
    "    for i in range(8):\n",
    "        Q = np.matrix(np.full([40000,2],0))\n",
    "        #Return = np.matrix(np.empty([40000,2]))\n",
    "        returns = {}\n",
    "        policy = np.matrix(np.full([40000,2],0.5))\n",
    "        \n",
    "        num_episodes=1000 \n",
    "        \n",
    "        for epi in range(num_episodes):# Looping through episodes\n",
    "            # Initializes the state\n",
    "            s_t = reset1()\n",
    "            episode = []\n",
    "            epsilon = 1/(epi+1)\n",
    "            G = 0 # Store cumulative reward in G (initialized at 0)\n",
    "            for j in range(running_time//time_interval):\n",
    "            \n",
    "                timestep = []\n",
    "                a_t = action_sapce_random\n",
    "                s_t , r_t = step1(a_t, s_t)\n",
    "                state_one_component=[]\n",
    "                state_one_component.append(s_t[i])\n",
    "                state_one_component.append(s_t[i+8])\n",
    "                timestep.append(tuple(state_one_component))\n",
    "                timestep.append(a_t[i])\n",
    "                episode.append(timestep)\n",
    "                 \n",
    "                state_action = (tuple(state_one_component),a_t[i])\n",
    "                G += r_t # Increment total reward by reward on current timestep\n",
    "            \n",
    "            \n",
    "                if not state_action in [(x[0], x[1]) for x in episode[0:j]]:\n",
    "                \n",
    "                    returns[state_action].append(G)    \n",
    "                          \n",
    "                    Q[tuple(state_one_component)][a_t[i]] = sum(returns[state_action]) / len(returns[state_action]) # Average reward across episodes\n",
    "                \n",
    "                    Q_list = list(map(lambda x: x[1], Q[tuple(state_one_component)].items())) # Finding the action with maximum value\n",
    "                    indices = [i for i, x in enumerate(Q_list) if x == max(Q_list)]\n",
    "                    max_Q = random.choice(indices)\n",
    "                \n",
    "                    A_star = max_Q # 14.\n",
    "                \n",
    "                    for a in policy[state_one_component].items(): # Update action probability for s_t in policy\n",
    "                        if a[0] == A_star:\n",
    "                            policy[tuple(state_one_component)][a_t[i]] = 1 - epsilon + (epsilon / abs(sum(policy[tuple(state_one_component)].values())))\n",
    "                        else:\n",
    "                            policy[tuple(state_one_component)][a_t[i]] = (epsilon / abs(sum(policy[tuple(state_one_component)].values())))\n",
    "\n",
    "            \n",
    "        return policy , Q\n",
    "            "
   ]
  },
  {
   "cell_type": "code",
   "execution_count": 35,
   "metadata": {},
   "outputs": [
    {
     "ename": "KeyError",
     "evalue": "((0.0, 0.0), 1)",
     "output_type": "error",
     "traceback": [
      "\u001b[1;31m---------------------------------------------------------------------------\u001b[0m",
      "\u001b[1;31mKeyError\u001b[0m                                  Traceback (most recent call last)",
      "\u001b[1;32m<ipython-input-35-5cb3a2ba81ab>\u001b[0m in \u001b[0;36m<module>\u001b[1;34m\u001b[0m\n\u001b[1;32m----> 1\u001b[1;33m \u001b[0mmonte_carlo_I\u001b[0m \u001b[1;33m(\u001b[0m\u001b[1;33m)\u001b[0m\u001b[1;33m\u001b[0m\u001b[1;33m\u001b[0m\u001b[0m\n\u001b[0m",
      "\u001b[1;32m<ipython-input-34-2fc3f8e1eff6>\u001b[0m in \u001b[0;36mmonte_carlo_I\u001b[1;34m()\u001b[0m\n\u001b[0;32m     33\u001b[0m                 \u001b[1;32mif\u001b[0m \u001b[1;32mnot\u001b[0m \u001b[0mstate_action\u001b[0m \u001b[1;32min\u001b[0m \u001b[1;33m[\u001b[0m\u001b[1;33m(\u001b[0m\u001b[0mx\u001b[0m\u001b[1;33m[\u001b[0m\u001b[1;36m0\u001b[0m\u001b[1;33m]\u001b[0m\u001b[1;33m,\u001b[0m \u001b[0mx\u001b[0m\u001b[1;33m[\u001b[0m\u001b[1;36m1\u001b[0m\u001b[1;33m]\u001b[0m\u001b[1;33m)\u001b[0m \u001b[1;32mfor\u001b[0m \u001b[0mx\u001b[0m \u001b[1;32min\u001b[0m \u001b[0mepisode\u001b[0m\u001b[1;33m[\u001b[0m\u001b[1;36m0\u001b[0m\u001b[1;33m:\u001b[0m\u001b[0mj\u001b[0m\u001b[1;33m]\u001b[0m\u001b[1;33m]\u001b[0m\u001b[1;33m:\u001b[0m\u001b[1;33m\u001b[0m\u001b[1;33m\u001b[0m\u001b[0m\n\u001b[0;32m     34\u001b[0m \u001b[1;33m\u001b[0m\u001b[0m\n\u001b[1;32m---> 35\u001b[1;33m                     \u001b[0mreturns\u001b[0m\u001b[1;33m[\u001b[0m\u001b[0mstate_action\u001b[0m\u001b[1;33m]\u001b[0m\u001b[1;33m.\u001b[0m\u001b[0mappend\u001b[0m\u001b[1;33m(\u001b[0m\u001b[0mG\u001b[0m\u001b[1;33m)\u001b[0m\u001b[1;33m\u001b[0m\u001b[1;33m\u001b[0m\u001b[0m\n\u001b[0m\u001b[0;32m     36\u001b[0m \u001b[1;33m\u001b[0m\u001b[0m\n\u001b[0;32m     37\u001b[0m                     \u001b[0mQ\u001b[0m\u001b[1;33m[\u001b[0m\u001b[0mtuple\u001b[0m\u001b[1;33m(\u001b[0m\u001b[0mstate_one_component\u001b[0m\u001b[1;33m)\u001b[0m\u001b[1;33m]\u001b[0m\u001b[1;33m[\u001b[0m\u001b[0ma_t\u001b[0m\u001b[1;33m[\u001b[0m\u001b[0mi\u001b[0m\u001b[1;33m]\u001b[0m\u001b[1;33m]\u001b[0m \u001b[1;33m=\u001b[0m \u001b[0msum\u001b[0m\u001b[1;33m(\u001b[0m\u001b[0mreturns\u001b[0m\u001b[1;33m[\u001b[0m\u001b[0mstate_action\u001b[0m\u001b[1;33m]\u001b[0m\u001b[1;33m)\u001b[0m \u001b[1;33m/\u001b[0m \u001b[0mlen\u001b[0m\u001b[1;33m(\u001b[0m\u001b[0mreturns\u001b[0m\u001b[1;33m[\u001b[0m\u001b[0mstate_action\u001b[0m\u001b[1;33m]\u001b[0m\u001b[1;33m)\u001b[0m \u001b[1;31m# Average reward across episodes\u001b[0m\u001b[1;33m\u001b[0m\u001b[1;33m\u001b[0m\u001b[0m\n",
      "\u001b[1;31mKeyError\u001b[0m: ((0.0, 0.0), 1)"
     ]
    }
   ],
   "source": [
    "monte_carlo_I ()"
   ]
  },
  {
   "cell_type": "code",
   "execution_count": 32,
   "metadata": {},
   "outputs": [],
   "source": [
    "#monte carlo first visit\n",
    "def monte_carlo_I ():\n",
    "    for i in range(8):\n",
    "        Q = np.zeros((40000,256) + (2,))\n",
    "        #Return = np.matrix(np.empty([40000,2]))\n",
    "        returns = {}\n",
    "        policy = np.matrix(np.full([40000,2],0.5))\n",
    "        \n",
    "        num_episodes=1000 \n",
    "        \n",
    "        for epi in range(num_episodes):# Looping through episodes\n",
    "            # Initializes the state\n",
    "            s_t = reset1()\n",
    "            episode = []\n",
    "            epsilon = 1/(epi+1)\n",
    "            G = 0 # Store cumulative reward in G (initialized at 0)\n",
    "            for j in range(running_time//time_interval):\n",
    "            \n",
    "                T= []\n",
    "                timestep = []\n",
    "                a_t = actionll(s_t)[0]\n",
    "                T_op = actionll(s_t)[1]\n",
    "                s_t , r_t = step1(a_t, s_t)\n",
    "                state_one_component=[]\n",
    "                state_one_component.append(s_t[i])\n",
    "                state_one_component.append(s_t[i+8])\n",
    "                timestep.append(tuple(state_one_component))\n",
    "                timestep.append(a_t[i])\n",
    "                episode.append(timestep)\n",
    "                 \n",
    "                state_action = (tuple(state_one_component),a_t[i])\n",
    "                G += r_t # Increment total reward by reward on current timestep\n",
    "            \n",
    "            \n",
    "                if not state_action in [(x[0], x[1]) for x in episode[0:j]]:\n",
    "                    \n",
    "                    T.append(T_op[i])\n",
    "                    returns[state_action].append(G)      \n",
    "                    Q[tuple(state_one_component)][a_t[i]] = sum(returns[state_action]) / len(returns[state_action]) # Average reward across episodes\n",
    "                    Q_list = list(map(lambda x: x[1], Q[tuple(state_one_component)].items())) # Finding the action with maximum value\n",
    "                    indices = [i for i, x in enumerate(Q_list) if x == max(Q_list)]\n",
    "                    max_Q = random.choice(indices)\n",
    "                \n",
    "                    A_star = max_Q # 14.\n",
    "                \n",
    "                    for a in policy[state_one_component].items(): # Update action probability for s_t in policy\n",
    "                        if a[0] == A_star:\n",
    "                            policy[tuple(state_one_component)][a_t[i]] = 1 - epsilon + (epsilon / abs(sum(policy[tuple(state_one_component)].values())))\n",
    "                        else:\n",
    "                            policy[tuple(state_one_component)][a_t[i]] = (epsilon / abs(sum(policy[tuple(state_one_component)].values())))\n",
    "                         \n",
    "        return policy , Q , T\n",
    "            "
   ]
  },
  {
   "cell_type": "code",
   "execution_count": 33,
   "metadata": {},
   "outputs": [
    {
     "ename": "KeyError",
     "evalue": "((5.0, 0.0), 0.0)",
     "output_type": "error",
     "traceback": [
      "\u001b[1;31m---------------------------------------------------------------------------\u001b[0m",
      "\u001b[1;31mKeyError\u001b[0m                                  Traceback (most recent call last)",
      "\u001b[1;32m<ipython-input-33-5cb3a2ba81ab>\u001b[0m in \u001b[0;36m<module>\u001b[1;34m\u001b[0m\n\u001b[1;32m----> 1\u001b[1;33m \u001b[0mmonte_carlo_I\u001b[0m \u001b[1;33m(\u001b[0m\u001b[1;33m)\u001b[0m\u001b[1;33m\u001b[0m\u001b[1;33m\u001b[0m\u001b[0m\n\u001b[0m",
      "\u001b[1;32m<ipython-input-32-fb6f91351b5a>\u001b[0m in \u001b[0;36mmonte_carlo_I\u001b[1;34m()\u001b[0m\n\u001b[0;32m     36\u001b[0m \u001b[1;33m\u001b[0m\u001b[0m\n\u001b[0;32m     37\u001b[0m                     \u001b[0mT\u001b[0m\u001b[1;33m.\u001b[0m\u001b[0mappend\u001b[0m\u001b[1;33m(\u001b[0m\u001b[0mT_op\u001b[0m\u001b[1;33m[\u001b[0m\u001b[0mi\u001b[0m\u001b[1;33m]\u001b[0m\u001b[1;33m)\u001b[0m\u001b[1;33m\u001b[0m\u001b[1;33m\u001b[0m\u001b[0m\n\u001b[1;32m---> 38\u001b[1;33m                     \u001b[0mreturns\u001b[0m\u001b[1;33m[\u001b[0m\u001b[0mstate_action\u001b[0m\u001b[1;33m]\u001b[0m\u001b[1;33m.\u001b[0m\u001b[0mappend\u001b[0m\u001b[1;33m(\u001b[0m\u001b[0mG\u001b[0m\u001b[1;33m)\u001b[0m\u001b[1;33m\u001b[0m\u001b[1;33m\u001b[0m\u001b[0m\n\u001b[0m\u001b[0;32m     39\u001b[0m                     \u001b[0mQ\u001b[0m\u001b[1;33m[\u001b[0m\u001b[0mtuple\u001b[0m\u001b[1;33m(\u001b[0m\u001b[0mstate_one_component\u001b[0m\u001b[1;33m)\u001b[0m\u001b[1;33m]\u001b[0m\u001b[1;33m[\u001b[0m\u001b[0ma_t\u001b[0m\u001b[1;33m[\u001b[0m\u001b[0mi\u001b[0m\u001b[1;33m]\u001b[0m\u001b[1;33m]\u001b[0m \u001b[1;33m=\u001b[0m \u001b[0msum\u001b[0m\u001b[1;33m(\u001b[0m\u001b[0mreturns\u001b[0m\u001b[1;33m[\u001b[0m\u001b[0mstate_action\u001b[0m\u001b[1;33m]\u001b[0m\u001b[1;33m)\u001b[0m \u001b[1;33m/\u001b[0m \u001b[0mlen\u001b[0m\u001b[1;33m(\u001b[0m\u001b[0mreturns\u001b[0m\u001b[1;33m[\u001b[0m\u001b[0mstate_action\u001b[0m\u001b[1;33m]\u001b[0m\u001b[1;33m)\u001b[0m \u001b[1;31m# Average reward across episodes\u001b[0m\u001b[1;33m\u001b[0m\u001b[1;33m\u001b[0m\u001b[0m\n\u001b[0;32m     40\u001b[0m                     \u001b[0mQ_list\u001b[0m \u001b[1;33m=\u001b[0m \u001b[0mlist\u001b[0m\u001b[1;33m(\u001b[0m\u001b[0mmap\u001b[0m\u001b[1;33m(\u001b[0m\u001b[1;32mlambda\u001b[0m \u001b[0mx\u001b[0m\u001b[1;33m:\u001b[0m \u001b[0mx\u001b[0m\u001b[1;33m[\u001b[0m\u001b[1;36m1\u001b[0m\u001b[1;33m]\u001b[0m\u001b[1;33m,\u001b[0m \u001b[0mQ\u001b[0m\u001b[1;33m[\u001b[0m\u001b[0mtuple\u001b[0m\u001b[1;33m(\u001b[0m\u001b[0mstate_one_component\u001b[0m\u001b[1;33m)\u001b[0m\u001b[1;33m]\u001b[0m\u001b[1;33m.\u001b[0m\u001b[0mitems\u001b[0m\u001b[1;33m(\u001b[0m\u001b[1;33m)\u001b[0m\u001b[1;33m)\u001b[0m\u001b[1;33m)\u001b[0m \u001b[1;31m# Finding the action with maximum value\u001b[0m\u001b[1;33m\u001b[0m\u001b[1;33m\u001b[0m\u001b[0m\n",
      "\u001b[1;31mKeyError\u001b[0m: ((5.0, 0.0), 0.0)"
     ]
    }
   ],
   "source": [
    "monte_carlo_I ()"
   ]
  },
  {
   "cell_type": "code",
   "execution_count": null,
   "metadata": {},
   "outputs": [],
   "source": []
  }
 ],
 "metadata": {
  "kernelspec": {
   "display_name": "Python 3",
   "language": "python",
   "name": "python3"
  },
  "language_info": {
   "codemirror_mode": {
    "name": "ipython",
    "version": 3
   },
   "file_extension": ".py",
   "mimetype": "text/x-python",
   "name": "python",
   "nbconvert_exporter": "python",
   "pygments_lexer": "ipython3",
   "version": "3.7.3"
  }
 },
 "nbformat": 4,
 "nbformat_minor": 2
}
